{
  "nbformat": 4,
  "nbformat_minor": 0,
  "metadata": {
    "colab": {
      "provenance": []
    },
    "kernelspec": {
      "name": "python3",
      "display_name": "Python 3"
    },
    "language_info": {
      "name": "python"
    }
  },
  "cells": [
    {
      "cell_type": "code",
      "execution_count": null,
      "metadata": {
        "id": "8dRqzszmabXm"
      },
      "outputs": [],
      "source": []
    },
    {
      "cell_type": "markdown",
      "source": [
        "**1.Discuss string slicing and provide examples.**\n",
        "\n",
        "**Ans**. String slicing is a fundamental operation in Python that allows you to extract a portion of a string, creating a new string from the selected part. In essence, its a way to access specific characters or substrings within a larger string.\n",
        "\n",
        " **Example-**\n",
        "\n"
      ],
      "metadata": {
        "id": "sBnYyUb4a142"
      }
    },
    {
      "cell_type": "code",
      "source": [],
      "metadata": {
        "id": "9x8ss0ugwoOF"
      },
      "execution_count": null,
      "outputs": []
    },
    {
      "cell_type": "code",
      "source": [
        "#String slicing\n",
        "String=\"Rahultrader\"\n",
        "\n",
        "#slice constructor\n",
        "s1= slice(5)\n",
        "s2= slice(1, 3, 5)\n",
        "s3= slice(2, 7)\n",
        "\n",
        "print(\"String slicing\")\n",
        "print(String[s1])\n",
        "print(String[s2])\n",
        "print(String[s3])"
      ],
      "metadata": {
        "colab": {
          "base_uri": "https://localhost:8080/"
        },
        "id": "U3oKaZYYegHC",
        "outputId": "81ae5668-2767-41b9-da8b-b38206496e0b"
      },
      "execution_count": 3,
      "outputs": [
        {
          "output_type": "stream",
          "name": "stdout",
          "text": [
            "String slicing\n",
            "Rahul\n",
            "a\n",
            "hultr\n"
          ]
        }
      ]
    },
    {
      "cell_type": "code",
      "source": [
        "#Example 2\n",
        "\n",
        "# string slicing\n",
        "\n",
        "# String slicing\n",
        "String = 'Rahultrader'\n",
        "\n",
        "# Using indexing sequence\n",
        "print(String[:3])\n"
      ],
      "metadata": {
        "colab": {
          "base_uri": "https://localhost:8080/"
        },
        "id": "JCoRhaNZg4f2",
        "outputId": "b8296230-b0a6-4120-ae20-6ee4296a2022"
      },
      "execution_count": 4,
      "outputs": [
        {
          "output_type": "stream",
          "name": "stdout",
          "text": [
            "Rah\n"
          ]
        }
      ]
    },
    {
      "cell_type": "code",
      "source": [
        "#Example3\n",
        "\n",
        "# string slicing\n",
        "\n",
        "# String slicing\n",
        "String = 'Rahultrader'\n",
        "\n",
        "# Using indexing sequence\n",
        "print(String[1:5:2])\n"
      ],
      "metadata": {
        "colab": {
          "base_uri": "https://localhost:8080/"
        },
        "id": "7fpg7uNHhYZV",
        "outputId": "fb0c58d5-ebb8-4d82-84ae-e535261a099b"
      },
      "execution_count": 5,
      "outputs": [
        {
          "output_type": "stream",
          "name": "stdout",
          "text": [
            "au\n"
          ]
        }
      ]
    },
    {
      "cell_type": "code",
      "source": [
        "#Example4\n",
        "# string slicing\n",
        "\n",
        "# String slicing\n",
        "String = 'Rahultrader'\n",
        "\n",
        "# Using indexing sequence\n",
        "print(String[-1:-7:-2])\n"
      ],
      "metadata": {
        "colab": {
          "base_uri": "https://localhost:8080/"
        },
        "id": "SDsYP4Uthr22",
        "outputId": "7f74b761-14c9-4a4e-ff31-6077cce3a329"
      },
      "execution_count": 6,
      "outputs": [
        {
          "output_type": "stream",
          "name": "stdout",
          "text": [
            "rdr\n"
          ]
        }
      ]
    },
    {
      "cell_type": "markdown",
      "source": [
        "**2.** **Explain the key features of lists in Python.**\n",
        "\n",
        "**Ans-** Lists are used to store multiple items in a single variable.It can store elements of different types (integer, float, string, etc.)\n",
        "\n",
        "\n",
        "\n",
        "* **List Length**-To determine how many items a list has, use the len() function.\n",
        "\n",
        "\n",
        "\n"
      ],
      "metadata": {
        "id": "X-QYWvYch489"
      }
    },
    {
      "cell_type": "code",
      "source": [
        "#Example\n",
        "#Print the number of items in the list:\n",
        "thislist = [\"mango\", \"banana\", \"grapes\"]\n",
        "print(len(thislist))"
      ],
      "metadata": {
        "colab": {
          "base_uri": "https://localhost:8080/"
        },
        "id": "35KnymI1mBLq",
        "outputId": "87ad2893-6c40-4444-87ae-2215d21ee77e"
      },
      "execution_count": 7,
      "outputs": [
        {
          "output_type": "stream",
          "name": "stdout",
          "text": [
            "3\n"
          ]
        }
      ]
    },
    {
      "cell_type": "markdown",
      "source": [
        "\n",
        "* **List Items - Data Types**- List items can be of any data type.\n",
        "\n",
        "\n",
        "\n",
        "\n",
        "\n",
        "\n",
        "\n",
        "\n"
      ],
      "metadata": {
        "id": "_co4cqMqmkD3"
      }
    },
    {
      "cell_type": "code",
      "source": [
        "#Example\n",
        "#String, int and boolean data types:\n",
        "list1 = [\"apple\", \"banana\", \"cherry\"]\n",
        "list2 = [1, 5, 7, 9, 3]\n",
        "list3 = [True, False, False]"
      ],
      "metadata": {
        "id": "l5Xno37WnU-T"
      },
      "execution_count": null,
      "outputs": []
    },
    {
      "cell_type": "markdown",
      "source": [
        "\n",
        "* **type()-** From Python's perspective, lists are defined as objects with the data type 'list':\n",
        "\n",
        "\n",
        "\n",
        "\n"
      ],
      "metadata": {
        "id": "Lp-ceKswnewe"
      }
    },
    {
      "cell_type": "code",
      "source": [
        "#Example\n",
        "mylist = [\"apple\", \"banana\", \"Grapes\"]\n",
        "print(type(mylist))"
      ],
      "metadata": {
        "colab": {
          "base_uri": "https://localhost:8080/"
        },
        "id": "kvHbSkbvoL1x",
        "outputId": "b1f755a0-e0bb-475d-f05d-846244969be7"
      },
      "execution_count": 8,
      "outputs": [
        {
          "output_type": "stream",
          "name": "stdout",
          "text": [
            "<class 'list'>\n"
          ]
        }
      ]
    },
    {
      "cell_type": "markdown",
      "source": [
        "* **The list() Constructor**- It is also possible to use the list() constructor when creating a new list.\n",
        "\n",
        "\n",
        "\n"
      ],
      "metadata": {
        "id": "dpNJTIezocxY"
      }
    },
    {
      "cell_type": "code",
      "source": [
        "#Example-\n",
        "#Using the list() constructor to make a List:\n",
        "thislist = list((\"apple\", \"banana\", \"cherry\"))\n",
        "print(thislist)"
      ],
      "metadata": {
        "colab": {
          "base_uri": "https://localhost:8080/"
        },
        "id": "Thxn6pdAotux",
        "outputId": "47f602c9-fc8a-45e0-dd49-b226e19a68f8"
      },
      "execution_count": 9,
      "outputs": [
        {
          "output_type": "stream",
          "name": "stdout",
          "text": [
            "['apple', 'banana', 'cherry']\n"
          ]
        }
      ]
    },
    {
      "cell_type": "markdown",
      "source": [
        "**3.** **Describe how to access, modify, and delete elements in a list with examples.**\n",
        "\n",
        "**Ans-**  Access Element in list-  We access the list items by referring to the index number."
      ],
      "metadata": {
        "id": "Wz5UXqZFo9gw"
      }
    },
    {
      "cell_type": "code",
      "source": [
        "#Example\n",
        "thislist = [\"apple\", \"banana\", \"cherry\"]\n",
        "print(thislist[1])"
      ],
      "metadata": {
        "colab": {
          "base_uri": "https://localhost:8080/"
        },
        "id": "bVK388yNrSMf",
        "outputId": "7d53ef9b-e5a9-412a-d063-a7d966befebf"
      },
      "execution_count": 10,
      "outputs": [
        {
          "output_type": "stream",
          "name": "stdout",
          "text": [
            "banana\n"
          ]
        }
      ]
    },
    {
      "cell_type": "markdown",
      "source": [
        "*  **Modify element in list-** To modify a specific element in a list using indexes in Python, you can access the element by its index and assign a new value to it. Indexes in Python are zero-based, meaning the first element in a list has an index of 0, the second element has an index of 1, and so on. By using the index of the element you want to modify, you can directly assign a new value to that element."
      ],
      "metadata": {
        "id": "z5y185FarZox"
      }
    },
    {
      "cell_type": "code",
      "source": [
        "#Example\n",
        "\n",
        "List=[ 10, 20, 30, 40, 50, 60]\n",
        "print(\"original list \")\n",
        "print(List)\n",
        "\n",
        "#changing the first value\n",
        "List[0] = 56\n",
        "\n",
        "#changing the second value\n",
        "List[1] = 78\n",
        "\n",
        "#changing the last element\n",
        "List[ -1] = 89\n",
        "\n",
        "print(\"\\nNew list\")\n",
        "print(List)\n",
        "\n"
      ],
      "metadata": {
        "colab": {
          "base_uri": "https://localhost:8080/"
        },
        "id": "2hjtjiZFssq3",
        "outputId": "af04803f-9cef-42b8-c53f-5e2045d2817f"
      },
      "execution_count": 11,
      "outputs": [
        {
          "output_type": "stream",
          "name": "stdout",
          "text": [
            "original list \n",
            "[10, 20, 30, 40, 50, 60]\n",
            "\n",
            "New list\n",
            "[56, 78, 30, 40, 50, 89]\n"
          ]
        }
      ]
    },
    {
      "cell_type": "markdown",
      "source": [
        "*  **Delete Element in list-** Lists in Python have various built-in methods to delete items such as remove, pop, del and clear methods. Removing elements from a list can be done in various ways depending on whether we want to remove based on the value of the element or index."
      ],
      "metadata": {
        "id": "noyZAxYmtL-P"
      }
    },
    {
      "cell_type": "code",
      "source": [
        "#Example\n",
        "a = [10, 20, 30, 40, 50]\n",
        "a.remove(30)\n",
        "print(a)\n"
      ],
      "metadata": {
        "colab": {
          "base_uri": "https://localhost:8080/"
        },
        "id": "ScKwf6vptulS",
        "outputId": "8028c6f5-468a-4089-b59f-629db9d2e949"
      },
      "execution_count": 12,
      "outputs": [
        {
          "output_type": "stream",
          "name": "stdout",
          "text": [
            "[10, 20, 40, 50]\n"
          ]
        }
      ]
    },
    {
      "cell_type": "markdown",
      "source": [
        "**4**. **Compare and contrast tuples and lists with example.**\n",
        "\n",
        " **Ans-**\n",
        "\n",
        " **Tuple-**\n",
        "   \n",
        "   * Tuples are immutable.\n",
        "   *A Tuple data type is appropriate for accessing the elements.\n",
        "   *Tuple does not have many built-in methods.\n",
        "   *Tuple consumes less memory as compared to the list.\n",
        "   *The implication of iterations is comparatively Faster.\n",
        "\n",
        "\n",
        "\n",
        "\n",
        "\n",
        "  "
      ],
      "metadata": {
        "id": "6_mSGMvTt3Yw"
      }
    },
    {
      "cell_type": "code",
      "source": [
        "#Example\n",
        "# code to test that tuples are immutable\n",
        "\n",
        "tuple1 = (0, 1, 2, 3)\n",
        "tuple1[0] = 4\n",
        "print(tuple1)\n"
      ],
      "metadata": {
        "colab": {
          "base_uri": "https://localhost:8080/",
          "height": 193
        },
        "id": "e8fDU3GdaXLK",
        "outputId": "75416eb9-aa49-4490-d779-c6278ecbd99a"
      },
      "execution_count": 3,
      "outputs": [
        {
          "output_type": "error",
          "ename": "TypeError",
          "evalue": "'tuple' object does not support item assignment",
          "traceback": [
            "\u001b[0;31m---------------------------------------------------------------------------\u001b[0m",
            "\u001b[0;31mTypeError\u001b[0m                                 Traceback (most recent call last)",
            "\u001b[0;32m<ipython-input-3-4adbeaf3b419>\u001b[0m in \u001b[0;36m<cell line: 5>\u001b[0;34m()\u001b[0m\n\u001b[1;32m      3\u001b[0m \u001b[0;34m\u001b[0m\u001b[0m\n\u001b[1;32m      4\u001b[0m \u001b[0mtuple1\u001b[0m \u001b[0;34m=\u001b[0m \u001b[0;34m(\u001b[0m\u001b[0;36m0\u001b[0m\u001b[0;34m,\u001b[0m \u001b[0;36m1\u001b[0m\u001b[0;34m,\u001b[0m \u001b[0;36m2\u001b[0m\u001b[0;34m,\u001b[0m \u001b[0;36m3\u001b[0m\u001b[0;34m)\u001b[0m\u001b[0;34m\u001b[0m\u001b[0;34m\u001b[0m\u001b[0m\n\u001b[0;32m----> 5\u001b[0;31m \u001b[0mtuple1\u001b[0m\u001b[0;34m[\u001b[0m\u001b[0;36m0\u001b[0m\u001b[0;34m]\u001b[0m \u001b[0;34m=\u001b[0m \u001b[0;36m4\u001b[0m\u001b[0;34m\u001b[0m\u001b[0;34m\u001b[0m\u001b[0m\n\u001b[0m\u001b[1;32m      6\u001b[0m \u001b[0mprint\u001b[0m\u001b[0;34m(\u001b[0m\u001b[0mtuple1\u001b[0m\u001b[0;34m)\u001b[0m\u001b[0;34m\u001b[0m\u001b[0;34m\u001b[0m\u001b[0m\n",
            "\u001b[0;31mTypeError\u001b[0m: 'tuple' object does not support item assignment"
          ]
        }
      ]
    },
    {
      "cell_type": "code",
      "source": [
        "#Example\n",
        "import sys\n",
        "a_list = []\n",
        "a_tuple = ()\n",
        "a_list = [\"Rahul\",\"trader\",]\n",
        "a_tuple = (\"Rahul\", \"trader\",)\n",
        "print(sys.getsizeof(a_list))\n",
        "print(sys.getsizeof(a_tuple))\n"
      ],
      "metadata": {
        "colab": {
          "base_uri": "https://localhost:8080/"
        },
        "id": "a0fUN3mpalUB",
        "outputId": "2bbbfc34-112e-4cac-9470-257ba80e0719"
      },
      "execution_count": 2,
      "outputs": [
        {
          "output_type": "stream",
          "name": "stdout",
          "text": [
            "72\n",
            "56\n"
          ]
        }
      ]
    },
    {
      "cell_type": "markdown",
      "source": [
        "*  **List-**\n",
        " *  Lists are mutable.\n",
        " * The list is better for performing operations, such as insertion and deletion.\n",
        " *Lists have several built-in methods.\n",
        " *Lists consume more memory."
      ],
      "metadata": {
        "id": "WSv2TrSgbH9Q"
      }
    },
    {
      "cell_type": "code",
      "source": [
        "#Example\n",
        "# Creating a List with\n",
        "# the use of Numbers\n",
        "# code to test that tuples are mutable\n",
        "List = [1, 2, 4, 4, 3, 3, 3, 6, 5]\n",
        "print(\"Original list \", List)\n",
        "\n",
        "List[3] = 77\n",
        "print(\"Example to show mutability \", List)\n"
      ],
      "metadata": {
        "id": "0tnvXEPrbx3q"
      },
      "execution_count": null,
      "outputs": []
    },
    {
      "cell_type": "markdown",
      "source": [
        "***5***. **Describe the key features of sets and provide examples of their use.**\n",
        "  \n",
        "**Ans-**Set is the collection of the unordered items.\n",
        "Each element in the set must be unique & immutable.\n",
        "\n",
        "  **Key feature of set-**\n",
        "  \n",
        "#  *  Uniqueness: Sets only contain unique elements. Duplicates are automatically removed.\n",
        ""
      ],
      "metadata": {
        "id": "5cU08HYbcz4J"
      }
    },
    {
      "cell_type": "code",
      "source": [
        "#Example\n",
        "# a set cannot have duplicate values\n",
        "myset = {\"Rahul\", \"Trader\", \"Rahul\"}\n",
        "print(myset)\n"
      ],
      "metadata": {
        "colab": {
          "base_uri": "https://localhost:8080/"
        },
        "id": "1JNz93jjkQG5",
        "outputId": "649395df-2514-4016-b570-ab859ee5ea5b"
      },
      "execution_count": 4,
      "outputs": [
        {
          "output_type": "stream",
          "name": "stdout",
          "text": [
            "{'Trader', 'Rahul'}\n"
          ]
        }
      ]
    },
    {
      "cell_type": "markdown",
      "source": [
        "*  Unordered: Elements in a set dont have a specific order. The order they are added or retrieved is not guaranteed."
      ],
      "metadata": {
        "id": "kmOHJa8yk6Qq"
      }
    },
    {
      "cell_type": "code",
      "source": [
        "#Example\n",
        "# Another Method to create sets in Python3\n",
        "# Set containing numbers\n",
        "my_set = {1, 2, 3}\n",
        "\n",
        "print(my_set)\n"
      ],
      "metadata": {
        "colab": {
          "base_uri": "https://localhost:8080/"
        },
        "id": "bD36gRarlF5b",
        "outputId": "728c509e-45c6-4e42-f42f-da58528b5625"
      },
      "execution_count": 5,
      "outputs": [
        {
          "output_type": "stream",
          "name": "stdout",
          "text": [
            "{1, 2, 3}\n"
          ]
        }
      ]
    },
    {
      "cell_type": "markdown",
      "source": [
        "*  Mutability: Sets can be modified after creation. Elements can be added or removed using various methods."
      ],
      "metadata": {
        "id": "4q0A-b45mYJp"
      }
    },
    {
      "cell_type": "code",
      "source": [
        "#Example\n",
        "s = set()\n",
        "s.add(1)\n",
        "s.add(3)\n",
        "print(s)"
      ],
      "metadata": {
        "colab": {
          "base_uri": "https://localhost:8080/"
        },
        "id": "cg_0QPW8mpo1",
        "outputId": "39adedef-e604-4d4c-bd9e-8f4ca72cf94b"
      },
      "execution_count": 6,
      "outputs": [
        {
          "output_type": "stream",
          "name": "stdout",
          "text": [
            "{1, 3}\n"
          ]
        }
      ]
    },
    {
      "cell_type": "markdown",
      "source": [
        "**6**.  **Discuss the use cases of tuples and sets in Python programming.**\n",
        "  \n",
        "**Ans-**  **Tuples-** Tuple is a collection of Python objects much like a list. The sequence of values stored in a tuple can be of any type, and they are indexed by integers. Values of a tuple are syntactically separated by ‘commas’. Although it is not necessary, it is more common to define a tuple by closing the sequence of values in parentheses.\n",
        "\n",
        "* Tuple is an immutable sequence in python.\n",
        "* It cannot be changed or replaced since it is immutable.\n",
        "* It is defined under parenthesis().\n",
        "* Tuples can store any type of element.\n",
        "\n",
        "**Sets-** Set is an unordered collection of data type that is iterable, mutable, and has no duplicate elements. The major advantage of using a set, as opposed to a list, is that it has a highly optimized method for checking whether a specific element is contained in the set.\n",
        "\n",
        "*  Sets are an unordered collection of elements or unintended collection of items In python.\n",
        "*  Here the order in which the elements are added into the set is not fixed, it can change frequently.\n",
        "*  It is defined under curly braces{}.\n",
        "*  Sets are mutable, however, only immutable objects can be stored in it."
      ],
      "metadata": {
        "id": "-9zzJsE7oZhK"
      }
    },
    {
      "cell_type": "markdown",
      "source": [
        "**7.** **Describe how to add, modify, and delete items in a dictionary with example.**\n",
        "\n",
        " **Ans-** **Adding Elements to a Dictionary-** The addition of elements can be done in multiple ways. One value at a time can be added to a Dictionary by defining value along with the key."
      ],
      "metadata": {
        "id": "3zzYHNHQrBns"
      }
    },
    {
      "cell_type": "code",
      "source": [
        "#Example\n",
        "Dict = {}\n",
        "print(\"Rahul trader: \")\n",
        "print(Dict)"
      ],
      "metadata": {
        "colab": {
          "base_uri": "https://localhost:8080/"
        },
        "id": "7ArL1o3BsIWE",
        "outputId": "1ed1cb8b-575b-4fc2-dcdb-3ff37425fedf"
      },
      "execution_count": 7,
      "outputs": [
        {
          "output_type": "stream",
          "name": "stdout",
          "text": [
            "Rahul trader: \n",
            "{}\n"
          ]
        }
      ]
    },
    {
      "cell_type": "markdown",
      "source": [
        "*  **Modify Elements of a Dictionary-**To access the items of a dictionary refer to its key name. Key can be used inside square brackets."
      ],
      "metadata": {
        "id": "odWf-iWhsjwM"
      }
    },
    {
      "cell_type": "code",
      "source": [
        "#Example\n",
        "Dict = {1: 'Rahul', 'name': 'trader', 3: 'company'}\n",
        "print(\"Accessing a element using key:\")\n",
        "print(Dict['name'])\n",
        "print(\"Accessing a element using key:\")\n",
        "print(Dict[1])\n"
      ],
      "metadata": {
        "colab": {
          "base_uri": "https://localhost:8080/"
        },
        "id": "TgxXRdrss8tg",
        "outputId": "4c686d1a-260d-41d6-e00a-f39bc6f63202"
      },
      "execution_count": 8,
      "outputs": [
        {
          "output_type": "stream",
          "name": "stdout",
          "text": [
            "Accessing a element using key:\n",
            "trader\n",
            "Accessing a element using key:\n",
            "Rahul\n"
          ]
        }
      ]
    },
    {
      "cell_type": "markdown",
      "source": [
        "*  **Deleting Elements-**The items of the dictionary can be deleted by using the del keyword.\n"
      ],
      "metadata": {
        "id": "NT7co89etTWU"
      }
    },
    {
      "cell_type": "code",
      "source": [
        "#Example\n",
        "Dict = {1: 'Rahul', 'name': 'trader', 3: 'company'}\n",
        "\n",
        "print(\"Dictionary =\")\n",
        "print(Dict)\n",
        "del(Dict[1])\n",
        "print(\"Data after deletion Dictionary=\")\n",
        "print(Dict)\n"
      ],
      "metadata": {
        "colab": {
          "base_uri": "https://localhost:8080/"
        },
        "id": "ME41CpaKtjwD",
        "outputId": "be794080-d777-4cfa-ae43-e1f3fa59a7c9"
      },
      "execution_count": 9,
      "outputs": [
        {
          "output_type": "stream",
          "name": "stdout",
          "text": [
            "Dictionary =\n",
            "{1: 'Rahul', 'name': 'trader', 3: 'company'}\n",
            "Data after deletion Dictionary=\n",
            "{'name': 'trader', 3: 'company'}\n"
          ]
        }
      ]
    },
    {
      "cell_type": "markdown",
      "source": [
        "**8-** **Discuss the importance of dictionary keys being immutable and provide examples.**\n",
        "\n",
        " Ans- In a dictionary, the key part must be immutable. This means that once a key is created, it cannot be changed. Immutability is essential for keys because it ensures that the dictionary can efficiently look up values based on their keys. If a key was mutable, its hash value could change, making it impossible to find the associated value in the dictionary."
      ],
      "metadata": {
        "id": "cLcA7Gtet0l8"
      }
    },
    {
      "cell_type": "code",
      "source": [
        "#Example\n",
        "Dict = {1: 'mango', 2: 'tree', 3: 'plant'}\n",
        "print(\"\\nDictionary with the use of Integer Keys: \")\n",
        "print(Dict)"
      ],
      "metadata": {
        "colab": {
          "base_uri": "https://localhost:8080/"
        },
        "id": "fr74lfF0vQiM",
        "outputId": "eaea56b1-1a0b-4278-d4a0-607bf26f84b2"
      },
      "execution_count": 10,
      "outputs": [
        {
          "output_type": "stream",
          "name": "stdout",
          "text": [
            "\n",
            "Dictionary with the use of Integer Keys: \n",
            "{1: 'mango', 2: 'tree', 3: 'plant'}\n"
          ]
        }
      ]
    }
  ]
}